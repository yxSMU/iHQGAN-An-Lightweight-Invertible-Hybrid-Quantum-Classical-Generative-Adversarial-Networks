{
  "cells": [
    {
      "cell_type": "code",
      "execution_count": 1,
      "metadata": {
        "colab": {},
        "colab_type": "code",
        "id": "-MTZUhlGEbTU"
      },
      "outputs": [],
      "source": [
        "#Goal: Make traning  dateset number: 1000  \n",
        "import corruptions\n",
        "from importlib import reload\n",
        "import matplotlib.pyplot as plt\n",
        "import torchvision\n",
        "import numpy as np\n",
        "from PIL import Image\n",
        "import torch as torch\n",
        "import random\n",
        "import os\n",
        "%matplotlib inline"
      ]
    },
    {
      "cell_type": "code",
      "execution_count": 18,
      "metadata": {
        "colab": {},
        "colab_type": "code",
        "id": "fQYM1-K-EbTX"
      },
      "outputs": [],
      "source": [
        "import os\n",
        "import random\n",
        "from torchvision.datasets import MNIST\n",
        "\n",
        "train_mnist = MNIST(\"./data/\", train=True, download=True)\n",
        "test_mnist = MNIST(\"./data/\", train=False, download=True)\n",
        "\n",
        "selected_labels = [4]\n",
        "count_per_label = 1000  \n",
        "total_images = len(selected_labels) * count_per_label\n",
        "save_directory = \"selected_images\"\n",
        "\n",
        "os.makedirs(save_directory, exist_ok=True)\n",
        "\n",
        "selected_indices = []\n",
        "count_per_label_dict = {label: 0 for label in selected_labels}\n",
        "\n",
        "for i in range(len(test_mnist)):\n",
        "    _, true_label = test_mnist[i]\n",
        "    if true_label in selected_labels and count_per_label_dict[true_label] < count_per_label:\n",
        "        selected_indices.append(i)\n",
        "        count_per_label_dict[true_label] += 1\n",
        "\n",
        "while sum(count_per_label_dict.values()) < total_images:\n",
        "    for i in range(len(test_mnist)):\n",
        "        _, true_label = test_mnist[i]\n",
        "        if true_label in selected_labels and count_per_label_dict[true_label] < count_per_label:\n",
        "            selected_indices.append(i)\n",
        "            count_per_label_dict[true_label] += 1\n",
        "\n",
        "            if sum(count_per_label_dict.values()) == total_images:\n",
        "                break \n",
        "\n",
        "random.seed(42)  \n",
        "random.shuffle(selected_indices)\n",
        "\n",
        "\n",
        "IMAGES = []\n",
        "LABELS = []\n",
        "\n",
        "\n",
        "for index, i in enumerate(selected_indices):\n",
        "    image, true_label = test_mnist[i]\n",
        "    IMAGES.append(image)\n",
        "    LABELS.append(true_label)\n",
        "\n",
        "\n",
        "random.seed(42) \n",
        "random.shuffle(selected_indices)\n",
        "\n",
        "\n",
        "for i, (image, label) in enumerate(zip(IMAGES, LABELS)):\n",
        "    new_filename = f\"label_{label}_image_{i + 1}.png\"\n",
        "    new_filepath = os.path.join(save_directory, new_filename)\n",
        "    image.save(new_filepath)\n",
        "\n",
        "\n",
        "    os.rename(new_filepath, os.path.join(save_directory, f\"image_{i + 1}.png\"))\n"
      ]
    },
    {
      "cell_type": "code",
      "execution_count": 19,
      "metadata": {
        "colab": {},
        "colab_type": "code",
        "id": "eEICV4aTEbTa"
      },
      "outputs": [],
      "source": [
        "\n",
        "    \n",
        "def round_and_astype(x):\n",
        "    return np.round(x).astype(np.uint8)\n",
        "\n",
        "\n",
        "def save(image, corruption, filename):\n",
        "\n",
        "    x = round_and_astype(np.array(corruption(image)))\n",
        "    x = round_and_astype(np.array(corruption(image)))\n",
        "    img = Image.fromarray(x)\n",
        "    img.save(filename)\n"
      ]
    },
    {
      "cell_type": "code",
      "execution_count": 21,
      "metadata": {
        "colab": {},
        "colab_type": "code",
        "id": "beg98c3hEbTc",
        "scrolled": true
      },
      "outputs": [],
      "source": [
        "reload(corruptions)\n",
        "# inspect(corruptions.glass_blur)\n",
        "import os\n",
        "save_directory = 'select_image'\n",
        "os.makedirs(save_directory, exist_ok=True)\n",
        "for index in range(1000):\n",
        "      # Generate a filename for each image\n",
        "      filename = os.path.join(save_directory, f'image_{index+1}.png')\n",
        "   \n",
        "      # Save the image using the save function\n",
        "      # save(IMAGES[index], corruptions.canny_edges, filename) \n",
        "      save(IMAGES[index], corruptions.canny_edges, filename) \n",
        "      # save(IMAGES[index], corruptions.canny_edges, filename) \n",
        "         \n",
        "\n",
        "      \n",
        "\n",
        "shuffled_save_directory = 'saved_images_impulse_noise_shuffled'\n",
        "os.makedirs(shuffled_save_directory, exist_ok=True)\n",
        "\n",
        "original_filenames = os.listdir(save_directory)\n",
        "\n",
        "\n",
        "random.seed(42) \n",
        "random.shuffle(original_filenames)\n",
        "\n",
        "\n",
        "\n",
        "for i, filename in enumerate(original_filenames):\n",
        "    original_filepath = os.path.join(save_directory, filename)\n",
        "    new_filename = f'image_{i + 1}.png'\n",
        "    new_filepath = os.path.join(shuffled_save_directory, new_filename)\n",
        "    \n",
        "\n",
        "    os.rename(original_filepath, new_filepath)"
      ]
    }
  ],
  "metadata": {
    "colab": {
      "collapsed_sections": [],
      "name": "visualize_corruptions.ipynb",
      "provenance": [],
      "version": "0.3.2"
    },
    "kernelspec": {
      "display_name": "acdemic",
      "language": "python",
      "name": "python3"
    },
    "language_info": {
      "codemirror_mode": {
        "name": "ipython",
        "version": 3
      },
      "file_extension": ".py",
      "mimetype": "text/x-python",
      "name": "python",
      "nbconvert_exporter": "python",
      "pygments_lexer": "ipython3",
      "version": "3.10.13"
    }
  },
  "nbformat": 4,
  "nbformat_minor": 0
}
