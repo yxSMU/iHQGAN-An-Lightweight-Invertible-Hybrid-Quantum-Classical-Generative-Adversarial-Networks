{
  "cells": [
    {
      "cell_type": "code",
      "execution_count": 9,
      "metadata": {
        "colab": {},
        "colab_type": "code",
        "id": "-MTZUhlGEbTU"
      },
      "outputs": [],
      "source": [
        "import corruptions\n",
        "from importlib import reload\n",
        "import matplotlib.pyplot as plt\n",
        "import torchvision\n",
        "import numpy as np\n",
        "from PIL import Image\n",
        "import torch as torch\n",
        "import random\n",
        "import os\n",
        "%matplotlib inline"
      ]
    },
    {
      "cell_type": "code",
      "execution_count": 14,
      "metadata": {
        "colab": {},
        "colab_type": "code",
        "id": "fQYM1-K-EbTX"
      },
      "outputs": [],
      "source": [
        "train_mnist = torchvision.datasets.MNIST(\"./data/\", train=True, download=True)\n",
        "test_mnist = torchvision.datasets.MNIST(\"./data/\", train=False, download=True)\n",
        "# IMAGES = [test_mnist[i][0] for i in range(50)]\n",
        "# LABELS = [test_mnist[i][1] for i in range(50)]\n",
        "# 选择标签为 0、1、2、3、7 的图像各 200 个\n",
        "selected_labels = [4]\n",
        "# selected_labels = [0, 1, 2, 3, 7]\n",
        "count_per_label =1000\n",
        "total_images = len(selected_labels) * count_per_label\n",
        "save_directory = \"selected_images\"\n",
        "\n",
        "# 创建保存图像的目录\n",
        "os.makedirs(save_directory, exist_ok=True)\n",
        "\n",
        "# 获取满足条件的图像索引\n",
        "selected_indices = []\n",
        "count = 0\n",
        "for i in range(len(test_mnist)):\n",
        "    _, true_label = test_mnist[i]\n",
        "    if true_label in selected_labels:\n",
        "        selected_indices.append(i)\n",
        "        count += 1\n",
        "        if count == total_images:\n",
        "            break\n",
        "\n",
        "# 随机化图像索引顺序\n",
        "random.seed(42)  # 设置随机种子，保证结果可重复\n",
        "random.shuffle(selected_indices)\n",
        "\n",
        "# 初始化 IMAGES 和 LABELS 列表\n",
        "IMAGES = []\n",
        "LABELS = []\n",
        "\n",
        "# 保存图像\n",
        "for index, i in enumerate(selected_indices):\n",
        "    image, true_label = test_mnist[i]\n",
        "    IMAGES.append(image)\n",
        "    LABELS.append(true_label)\n",
        "\n",
        "# 随机化图像索引顺序（均匀打乱）\n",
        "random.seed(42)  # 设置随机种子，保证结果可重复\n",
        "random.shuffle(selected_indices)\n",
        "\n",
        "# 保存图像\n",
        "for i, (image, label) in enumerate(zip(IMAGES, LABELS)):\n",
        "    new_filename = f\"label_{label}_image_{i + 1}.png\"\n",
        "    new_filepath = os.path.join(save_directory, new_filename)\n",
        "    image.save(new_filepath)\n",
        "\n",
        "    # 重新命名文件\n",
        "    os.rename(new_filepath, os.path.join(save_directory, f\"image_{i + 1}.png\"))"
      ]
    },
    {
      "cell_type": "code",
      "execution_count": 15,
      "metadata": {
        "colab": {},
        "colab_type": "code",
        "id": "eEICV4aTEbTa"
      },
      "outputs": [],
      "source": [
        "# def show(x):\n",
        "#     plt.imshow(x, cmap='gray', vmin=0, vmax=255)\n",
        "#     plt.axis(\"off\")\n",
        "#     plt.show()\n",
        "    \n",
        "def round_and_astype(x):\n",
        "    return np.round(x).astype(np.uint8)\n",
        "\n",
        "# def inspect(corruption):\n",
        "#     for im, l in zip(IMAGES, LABELS):\n",
        "#         print(\"Label: \" + str(l))\n",
        "#         x = np.array(corruption(im))\n",
        "#         show(round_and_astype(x))\n",
        "        \n",
        "# def inspect_single(image, corruption):\n",
        "#     x = np.array(corruption(image))\n",
        "#     show(round_and_astype(x))\n",
        "    \n",
        "def save(image, corruption, filename):\n",
        "\n",
        "    x = round_and_astype(np.array(corruption(image)))\n",
        "    x = round_and_astype(np.array(corruption(image)))\n",
        "    img = Image.fromarray(x)\n",
        "    img.save(filename)\n",
        "    # fig = plt.figure()\n",
        "    # ax = fig.add_subplot(111)\n",
        "    # ax.axes.get_xaxis().set_visible(False)\n",
        "    # ax.axes.get_yaxis().set_visible(False)\n",
        "    # ax.set_frame_on(False)\n",
        "    # ax.imshow(x, cmap='gray', vmin=0, vmax=255)\n",
        "    # plt.savefig(filename, bbox_inches='tight',transparent=True, pad_inches=0)\n"
      ]
    },
    {
      "cell_type": "code",
      "execution_count": 16,
      "metadata": {
        "colab": {},
        "colab_type": "code",
        "id": "beg98c3hEbTc",
        "scrolled": true
      },
      "outputs": [
        {
          "ename": "IndexError",
          "evalue": "list index out of range",
          "output_type": "error",
          "traceback": [
            "\u001b[1;31m---------------------------------------------------------------------------\u001b[0m",
            "\u001b[1;31mIndexError\u001b[0m                                Traceback (most recent call last)",
            "Cell \u001b[1;32mIn[16], line 12\u001b[0m\n\u001b[0;32m      8\u001b[0m       filename \u001b[38;5;241m=\u001b[39m os\u001b[38;5;241m.\u001b[39mpath\u001b[38;5;241m.\u001b[39mjoin(save_directory, \u001b[38;5;124mf\u001b[39m\u001b[38;5;124m'\u001b[39m\u001b[38;5;124mimage_\u001b[39m\u001b[38;5;132;01m{\u001b[39;00mindex\u001b[38;5;241m+\u001b[39m\u001b[38;5;241m1\u001b[39m\u001b[38;5;132;01m}\u001b[39;00m\u001b[38;5;124m.png\u001b[39m\u001b[38;5;124m'\u001b[39m)\n\u001b[0;32m     10\u001b[0m       \u001b[38;5;66;03m# Save the image using the save function\u001b[39;00m\n\u001b[0;32m     11\u001b[0m       \u001b[38;5;66;03m# save(IMAGES[index], corruptions.canny_edges, filename) \u001b[39;00m\n\u001b[1;32m---> 12\u001b[0m       save(\u001b[43mIMAGES\u001b[49m\u001b[43m[\u001b[49m\u001b[43mindex\u001b[49m\u001b[43m]\u001b[49m, corruptions\u001b[38;5;241m.\u001b[39mcanny_edges, filename) \n\u001b[0;32m     14\u001b[0m \u001b[38;5;66;03m# ###############上面写需要的corruptions处理#########\u001b[39;00m\n\u001b[0;32m     15\u001b[0m       \n\u001b[0;32m     16\u001b[0m \u001b[38;5;66;03m#乱序文件夹\u001b[39;00m\n\u001b[0;32m     17\u001b[0m \u001b[38;5;66;03m# 重新命名并保存\u001b[39;00m\n\u001b[0;32m     18\u001b[0m shuffled_save_directory \u001b[38;5;241m=\u001b[39m \u001b[38;5;124m'\u001b[39m\u001b[38;5;124msaved_images_impulse_noise_shuffled\u001b[39m\u001b[38;5;124m'\u001b[39m\n",
            "\u001b[1;31mIndexError\u001b[0m: list index out of range"
          ]
        }
      ],
      "source": [
        "reload(corruptions)\n",
        "# inspect(corruptions.glass_blur)\n",
        "import os\n",
        "save_directory = 'selected_images_new'\n",
        "os.makedirs(save_directory, exist_ok=True)\n",
        "for index in range(1000):\n",
        "      # Generate a filename for each image\n",
        "      filename = os.path.join(save_directory, f'image_{index+1}.png')\n",
        "   \n",
        "      # Save the image using the save function\n",
        "      # save(IMAGES[index], corruptions.canny_edges, filename) \n",
        "      save(IMAGES[index], corruptions.canny_edges, filename) \n",
        "         \n",
        "# ###############上面写需要的corruptions处理#########\n",
        "      \n",
        "#乱序文件夹\n",
        "# 重新命名并保存\n",
        "shuffled_save_directory = 'saved_images_impulse_noise_shuffled'\n",
        "os.makedirs(shuffled_save_directory, exist_ok=True)\n",
        "# 获取原始文件名列表\n",
        "original_filenames = os.listdir(save_directory)\n",
        "\n",
        "# 随机打乱文件名顺序\n",
        "random.seed(42)  # 设置随机种子，保证结果可重复\n",
        "random.shuffle(original_filenames)\n",
        "\n",
        "# 重新命名并保存\n",
        "for i, filename in enumerate(original_filenames):\n",
        "    original_filepath = os.path.join(save_directory, filename)\n",
        "    new_filename = f'image_{i + 1}.png'\n",
        "    new_filepath = os.path.join(shuffled_save_directory, new_filename)\n",
        "    \n",
        "    # 重新命名文件\n",
        "    os.rename(original_filepath, new_filepath)"
      ]
    }
  ],
  "metadata": {
    "colab": {
      "collapsed_sections": [],
      "name": "visualize_corruptions.ipynb",
      "provenance": [],
      "version": "0.3.2"
    },
    "kernelspec": {
      "display_name": "acdemic",
      "language": "python",
      "name": "python3"
    },
    "language_info": {
      "codemirror_mode": {
        "name": "ipython",
        "version": 3
      },
      "file_extension": ".py",
      "mimetype": "text/x-python",
      "name": "python",
      "nbconvert_exporter": "python",
      "pygments_lexer": "ipython3",
      "version": "3.10.13"
    }
  },
  "nbformat": 4,
  "nbformat_minor": 0
}
