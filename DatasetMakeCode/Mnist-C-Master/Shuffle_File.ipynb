{
  "cells": [
    {
      "cell_type": "code",
      "execution_count": 2,
      "metadata": {
        "colab": {},
        "colab_type": "code",
        "id": "-MTZUhlGEbTU"
      },
      "outputs": [],
      "source": [
        "import corruptions\n",
        "from importlib import reload\n",
        "import matplotlib.pyplot as plt\n",
        "import torchvision\n",
        "import numpy as np\n",
        "from PIL import Image\n",
        "import torch as torch\n",
        "import random\n",
        "import os\n",
        "%matplotlib inline"
      ]
    },
    {
      "cell_type": "code",
      "execution_count": 3,
      "metadata": {
        "colab": {},
        "colab_type": "code",
        "id": "beg98c3hEbTc",
        "scrolled": true
      },
      "outputs": [],
      "source": [
        "#乱序文件夹\n",
        "# 重新命名并保存\n",
        "save_directory = 'A'\n",
        "shuffled_save_directory = 'C'\n",
        "os.makedirs(shuffled_save_directory, exist_ok=True)\n",
        "# 获取原始文件名列表\n",
        "original_filenames = os.listdir('A')\n",
        "\n",
        "# 随机打乱文件名顺序\n",
        "random.seed(42)  # 设置随机种子，保证结果可重复\n",
        "random.shuffle(original_filenames)\n",
        "\n",
        "# 重新命名并保存\n",
        "for i, filename in enumerate(original_filenames):\n",
        "    original_filepath = os.path.join(save_directory, filename)\n",
        "    new_filename = f'image_{i + 1}.png'\n",
        "    new_filepath = os.path.join(shuffled_save_directory, new_filename)\n",
        "    \n",
        "    # 重新命名文件\n",
        "    os.rename(original_filepath, new_filepath)"
      ]
    }
  ],
  "metadata": {
    "colab": {
      "collapsed_sections": [],
      "name": "visualize_corruptions.ipynb",
      "provenance": [],
      "version": "0.3.2"
    },
    "kernelspec": {
      "display_name": "acdemic",
      "language": "python",
      "name": "python3"
    },
    "language_info": {
      "codemirror_mode": {
        "name": "ipython",
        "version": 3
      },
      "file_extension": ".py",
      "mimetype": "text/x-python",
      "name": "python",
      "nbconvert_exporter": "python",
      "pygments_lexer": "ipython3",
      "version": "3.10.13"
    }
  },
  "nbformat": 4,
  "nbformat_minor": 0
}
